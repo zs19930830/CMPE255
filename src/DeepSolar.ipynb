{
 "cells": [
  {
   "cell_type": "code",
   "execution_count": 47,
   "metadata": {},
   "outputs": [],
   "source": [
    "import numpy as np\n",
    "import pandas as pd\n"
   ]
  },
  {
   "cell_type": "code",
   "execution_count": 48,
   "metadata": {},
   "outputs": [
    {
     "data": {
      "text/plain": [
       "500"
      ]
     },
     "execution_count": 48,
     "metadata": {},
     "output_type": "execute_result"
    }
   ],
   "source": [
    "pd.set_option('display.max_rows', 500)\n",
    "pd.set_option('display.max_columns', 500)\n",
    "pd.get_option(\"display.max_columns\")"
   ]
  },
  {
   "cell_type": "code",
   "execution_count": 49,
   "metadata": {
    "scrolled": true
   },
   "outputs": [
    {
     "data": {
      "text/plain": [
       "(72537, 169)"
      ]
     },
     "execution_count": 49,
     "metadata": {},
     "output_type": "execute_result"
    }
   ],
   "source": [
    "data = pd.read_csv('/Volumes/MyDisk/Spring2020/Data Mining/deepsolar_tract.csv', encoding='latin1' )\n",
    "data.shape"
   ]
  },
  {
   "cell_type": "code",
   "execution_count": 50,
   "metadata": {},
   "outputs": [
    {
     "data": {
      "text/html": [
       "<div>\n",
       "<style scoped>\n",
       "    .dataframe tbody tr th:only-of-type {\n",
       "        vertical-align: middle;\n",
       "    }\n",
       "\n",
       "    .dataframe tbody tr th {\n",
       "        vertical-align: top;\n",
       "    }\n",
       "\n",
       "    .dataframe thead th {\n",
       "        text-align: right;\n",
       "    }\n",
       "</style>\n",
       "<table border=\"1\" class=\"dataframe\">\n",
       "  <thead>\n",
       "    <tr style=\"text-align: right;\">\n",
       "      <th></th>\n",
       "      <th>tile_count</th>\n",
       "      <th>solar_system_count</th>\n",
       "    </tr>\n",
       "    <tr>\n",
       "      <th>county</th>\n",
       "      <th></th>\n",
       "      <th></th>\n",
       "    </tr>\n",
       "  </thead>\n",
       "  <tbody>\n",
       "    <tr>\n",
       "      <th>Abbeville County</th>\n",
       "      <td>6</td>\n",
       "      <td>6</td>\n",
       "    </tr>\n",
       "    <tr>\n",
       "      <th>Acadia Parish</th>\n",
       "      <td>12</td>\n",
       "      <td>12</td>\n",
       "    </tr>\n",
       "    <tr>\n",
       "      <th>Accomack County</th>\n",
       "      <td>12</td>\n",
       "      <td>12</td>\n",
       "    </tr>\n",
       "    <tr>\n",
       "      <th>Ada County</th>\n",
       "      <td>59</td>\n",
       "      <td>59</td>\n",
       "    </tr>\n",
       "    <tr>\n",
       "      <th>Adair County</th>\n",
       "      <td>22</td>\n",
       "      <td>22</td>\n",
       "    </tr>\n",
       "    <tr>\n",
       "      <th>...</th>\n",
       "      <td>...</td>\n",
       "      <td>...</td>\n",
       "    </tr>\n",
       "    <tr>\n",
       "      <th>Yuba County</th>\n",
       "      <td>14</td>\n",
       "      <td>14</td>\n",
       "    </tr>\n",
       "    <tr>\n",
       "      <th>Yuma County</th>\n",
       "      <td>57</td>\n",
       "      <td>57</td>\n",
       "    </tr>\n",
       "    <tr>\n",
       "      <th>Zapata County</th>\n",
       "      <td>3</td>\n",
       "      <td>3</td>\n",
       "    </tr>\n",
       "    <tr>\n",
       "      <th>Zavala County</th>\n",
       "      <td>4</td>\n",
       "      <td>4</td>\n",
       "    </tr>\n",
       "    <tr>\n",
       "      <th>Ziebach County</th>\n",
       "      <td>1</td>\n",
       "      <td>1</td>\n",
       "    </tr>\n",
       "  </tbody>\n",
       "</table>\n",
       "<p>1843 rows × 2 columns</p>\n",
       "</div>"
      ],
      "text/plain": [
       "                  tile_count  solar_system_count\n",
       "county                                          \n",
       "Abbeville County           6                   6\n",
       "Acadia Parish             12                  12\n",
       "Accomack County           12                  12\n",
       "Ada County                59                  59\n",
       "Adair County              22                  22\n",
       "...                      ...                 ...\n",
       "Yuba County               14                  14\n",
       "Yuma County               57                  57\n",
       "Zapata County              3                   3\n",
       "Zavala County              4                   4\n",
       "Ziebach County             1                   1\n",
       "\n",
       "[1843 rows x 2 columns]"
      ]
     },
     "execution_count": 50,
     "metadata": {},
     "output_type": "execute_result"
    }
   ],
   "source": [
    "data[['tile_count','solar_system_count','county']].groupby('county').count()"
   ]
  },
  {
   "cell_type": "code",
   "execution_count": 51,
   "metadata": {},
   "outputs": [
    {
     "data": {
      "text/plain": [
       "0.0"
      ]
     },
     "execution_count": 51,
     "metadata": {},
     "output_type": "execute_result"
    }
   ],
   "source": [
    "data['tile_count'].min()"
   ]
  },
  {
   "cell_type": "markdown",
   "metadata": {},
   "source": [
    "###### data.columns"
   ]
  },
  {
   "cell_type": "code",
   "execution_count": 52,
   "metadata": {},
   "outputs": [
    {
     "name": "stdout",
     "output_type": "stream",
     "text": [
      "<class 'pandas.core.frame.DataFrame'>\n",
      "RangeIndex: 72537 entries, 0 to 72536\n",
      "Columns: 169 entries, Unnamed: 0 to avg_electricity_retail_rate\n",
      "dtypes: bool(2), float64(117), int64(47), object(3)\n",
      "memory usage: 92.6+ MB\n"
     ]
    }
   ],
   "source": [
    "data.info()"
   ]
  },
  {
   "cell_type": "code",
   "execution_count": 53,
   "metadata": {},
   "outputs": [
    {
     "data": {
      "text/plain": [
       "Unnamed: 0                                     0\n",
       "tile_count                                     0\n",
       "solar_system_count                             0\n",
       "total_panel_area                               0\n",
       "fips                                           0\n",
       "average_household_income                     886\n",
       "county                                         0\n",
       "education_bachelor                             0\n",
       "education_college                              0\n",
       "education_doctoral                             0\n",
       "education_high_school_graduate                 0\n",
       "education_less_than_high_school                0\n",
       "education_master                               0\n",
       "education_population                           0\n",
       "education_professional_school                  0\n",
       "employed                                       0\n",
       "gini_index                                   847\n",
       "heating_fuel_coal_coke                         0\n",
       "heating_fuel_electricity                       0\n",
       "heating_fuel_fuel_oil_kerosene                 0\n",
       "heating_fuel_gas                               0\n",
       "heating_fuel_housing_unit_count                0\n",
       "heating_fuel_none                              0\n",
       "heating_fuel_other                             0\n",
       "heating_fuel_solar                             0\n",
       "land_area                                     24\n",
       "per_capita_income                            643\n",
       "population                                     0\n",
       "population_density                           316\n",
       "poverty_family_below_poverty_level             0\n",
       "poverty_family_count                           0\n",
       "race_asian                                     0\n",
       "race_black_africa                              0\n",
       "race_indian_alaska                             0\n",
       "race_islander                                  0\n",
       "race_other                                     0\n",
       "race_two_more                                  0\n",
       "race_white                                     0\n",
       "state                                          0\n",
       "total_area                                    24\n",
       "unemployed                                     0\n",
       "water_area                                    24\n",
       "education_less_than_high_school_rate         607\n",
       "education_high_school_graduate_rate          607\n",
       "education_college_rate                       607\n",
       "education_bachelor_rate                      607\n",
       "education_master_rate                        607\n",
       "education_professional_school_rate           607\n",
       "education_doctoral_rate                      607\n",
       "race_white_rate                              597\n",
       "race_black_africa_rate                       597\n",
       "race_indian_alaska_rate                      597\n",
       "race_asian_rate                              597\n",
       "race_islander_rate                           597\n",
       "race_other_rate                              597\n",
       "race_two_more_rate                           597\n",
       "employ_rate                                  706\n",
       "poverty_family_below_poverty_level_rate      823\n",
       "heating_fuel_gas_rate                        771\n",
       "heating_fuel_electricity_rate                771\n",
       "heating_fuel_fuel_oil_kerosene_rate          771\n",
       "heating_fuel_coal_coke_rate                  771\n",
       "heating_fuel_solar_rate                      771\n",
       "heating_fuel_other_rate                      771\n",
       "heating_fuel_none_rate                       771\n",
       "solar_panel_area_divided_by_area              24\n",
       "solar_panel_area_per_capita                  463\n",
       "tile_count_residential                         0\n",
       "tile_count_nonresidential                      0\n",
       "solar_system_count_residential                 0\n",
       "solar_system_count_nonresidential              0\n",
       "total_panel_area_residential                   0\n",
       "total_panel_area_nonresidential                0\n",
       "median_household_income                      957\n",
       "electricity_price_residential                  0\n",
       "electricity_price_commercial                   0\n",
       "electricity_price_industrial                   0\n",
       "electricity_price_transportation               0\n",
       "electricity_price_overall                      0\n",
       "electricity_consume_residential                0\n",
       "electricity_consume_commercial                 0\n",
       "electricity_consume_industrial                 0\n",
       "electricity_consume_total                      0\n",
       "household_count                                0\n",
       "average_household_size                       808\n",
       "housing_unit_count                             0\n",
       "housing_unit_occupied_count                    0\n",
       "housing_unit_median_value                   1894\n",
       "housing_unit_median_gross_rent              1976\n",
       "lat                                         5802\n",
       "lon                                         5802\n",
       "elevation                                   5802\n",
       "heating_design_temperature                  5802\n",
       "cooling_design_temperature                  5802\n",
       "earth_temperature_amplitude                 5802\n",
       "frost_days                                  5802\n",
       "air_temperature                             5802\n",
       "relative_humidity                           5802\n",
       "daily_solar_radiation                       5802\n",
       "atmospheric_pressure                        5802\n",
       "wind_speed                                  5802\n",
       "earth_temperature                           5802\n",
       "heating_degree_days                         5802\n",
       "cooling_degree_days                         5802\n",
       "age_18_24_rate                               597\n",
       "age_25_34_rate                               597\n",
       "age_more_than_85_rate                        597\n",
       "age_75_84_rate                               597\n",
       "age_35_44_rate                               597\n",
       "age_45_54_rate                               597\n",
       "age_65_74_rate                               597\n",
       "age_55_64_rate                               597\n",
       "age_10_14_rate                               597\n",
       "age_15_17_rate                               597\n",
       "age_5_9_rate                                 597\n",
       "household_type_family_rate                   771\n",
       "dropout_16_19_inschool_rate                 1061\n",
       "occupation_construction_rate                 711\n",
       "occupation_public_rate                       711\n",
       "occupation_information_rate                  711\n",
       "occupation_finance_rate                      711\n",
       "occupation_education_rate                    711\n",
       "occupation_administrative_rate               711\n",
       "occupation_manufacturing_rate                711\n",
       "occupation_wholesale_rate                    711\n",
       "occupation_retail_rate                       711\n",
       "occupation_transportation_rate               711\n",
       "occupation_arts_rate                         711\n",
       "occupation_agriculture_rate                  711\n",
       "occupancy_vacant_rate                        746\n",
       "occupancy_owner_rate                         746\n",
       "mortgage_with_rate                          1136\n",
       "transportation_home_rate                     701\n",
       "transportation_car_alone_rate                701\n",
       "transportation_walk_rate                     701\n",
       "transportation_carpool_rate                  701\n",
       "transportation_motorcycle_rate               701\n",
       "transportation_bicycle_rate                  701\n",
       "transportation_public_rate                   701\n",
       "travel_time_less_than_10_rate                705\n",
       "travel_time_10_19_rate                       705\n",
       "travel_time_20_29_rate                       705\n",
       "travel_time_30_39_rate                       705\n",
       "travel_time_40_59_rate                       705\n",
       "travel_time_60_89_rate                       705\n",
       "health_insurance_public_rate                 701\n",
       "health_insurance_none_rate                   701\n",
       "age_median                                   630\n",
       "travel_time_average                          847\n",
       "voting_2016_dem_percentage                     3\n",
       "voting_2016_gop_percentage                     3\n",
       "voting_2016_dem_win                            0\n",
       "voting_2012_dem_percentage                 10554\n",
       "voting_2012_gop_percentage                 10554\n",
       "voting_2012_dem_win                            0\n",
       "number_of_years_of_education                 607\n",
       "diversity                                    597\n",
       "number_of_solar_system_per_household         546\n",
       "incentive_count_residential                    0\n",
       "incentive_count_nonresidential                 0\n",
       "incentive_residential_state_level              0\n",
       "incentive_nonresidential_state_level           0\n",
       "net_metering                                   0\n",
       "feedin_tariff                                  0\n",
       "cooperate_tax                                  0\n",
       "property_tax                                   0\n",
       "sales_tax                                      0\n",
       "rebate                                         0\n",
       "avg_electricity_retail_rate                    0\n",
       "dtype: int64"
      ]
     },
     "execution_count": 53,
     "metadata": {},
     "output_type": "execute_result"
    }
   ],
   "source": [
    "data.isnull().sum()"
   ]
  },
  {
   "cell_type": "code",
   "execution_count": 54,
   "metadata": {},
   "outputs": [
    {
     "data": {
      "text/plain": [
       "county\n",
       "Abbeville County      33.679973\n",
       "Acadia Parish        319.494470\n",
       "Accomack County       68.261343\n",
       "Ada County           325.957897\n",
       "Adair County         188.637733\n",
       "                       ...     \n",
       "Yuba County         4286.143337\n",
       "Yuma County         1662.942316\n",
       "Zapata County         93.654498\n",
       "Zavala County         32.902217\n",
       "Ziebach County         0.000000\n",
       "Name: total_panel_area, Length: 1843, dtype: float64"
      ]
     },
     "execution_count": 54,
     "metadata": {},
     "output_type": "execute_result"
    }
   ],
   "source": [
    "data.groupby(data['county'])['total_panel_area'].mean()"
   ]
  },
  {
   "cell_type": "code",
   "execution_count": 55,
   "metadata": {},
   "outputs": [
    {
     "data": {
      "text/plain": [
       "3055.0"
      ]
     },
     "execution_count": 55,
     "metadata": {},
     "output_type": "execute_result"
    }
   ],
   "source": [
    "cali_data = data[data['state'] == 'ca']\n",
    "cali_data['tile_count'].max()"
   ]
  },
  {
   "cell_type": "markdown",
   "metadata": {},
   "source": [
    "## Census Tract Level Environmental and Socioeconomic factors"
   ]
  },
  {
   "cell_type": "markdown",
   "metadata": {},
   "source": [
    "### 1. Statewide Incentive parameters and Average Electricity Retail Rate"
   ]
  },
  {
   "cell_type": "code",
   "execution_count": 56,
   "metadata": {},
   "outputs": [
    {
     "data": {
      "text/plain": [
       "10"
      ]
     },
     "execution_count": 56,
     "metadata": {},
     "output_type": "execute_result"
    }
   ],
   "source": [
    "incentive_parameters = [\n",
    "\n",
    "    'incentive_count_residential',\n",
    "                        'incentive_count_nonresidential',\n",
    "                        'incentive_count_state_level',\n",
    "                        'net_metering',\n",
    "                        'feedin_tariff',\n",
    "                        'cooperate_tax',\n",
    "                        'property_tax',\n",
    "                        'sales_tax',\n",
    "                        'rebate',\n",
    "                        'avg_electricity_retail_rate'\n",
    "                        'electricity_price_residential',                                     \n",
    "\n",
    "                       ]\n",
    "len(incentive_parameters)"
   ]
  },
  {
   "cell_type": "markdown",
   "metadata": {},
   "source": [
    "### 2. Demographic Factors"
   ]
  },
  {
   "cell_type": "code",
   "execution_count": 57,
   "metadata": {},
   "outputs": [
    {
     "data": {
      "text/plain": [
       "75"
      ]
     },
     "execution_count": 57,
     "metadata": {},
     "output_type": "execute_result"
    }
   ],
   "source": [
    "demographic_parameters = [\n",
    "    'average_household_income',\n",
    "                        'gini_index',\n",
    "                        'per_capita_income',                                                    \n",
    "                        'population_density',                                                   \n",
    "                        'education_less_than_high_school_rate',         \n",
    "'education_high_school_graduate_rate',         \n",
    "'education_college_rate',                       \n",
    "'education_bachelor_rate',                      \n",
    "'education_master_rate',                        \n",
    "'education_professional_school_rate',           \n",
    "'education_doctoral_rate',                      \n",
    "'race_white_rate',                              \n",
    "'race_black_africa_rate',                       \n",
    "'race_indian_alaska_rate',                      \n",
    "'race_asian_rate',                              \n",
    "'race_islander_rate',                          \n",
    "'race_other_rate',                              \n",
    "'race_two_more_rate',\n",
    "'poverty_family_below_poverty_level_rate',      \n",
    "'heating_fuel_gas_rate',                        \n",
    "'heating_fuel_electricity_rate',                \n",
    "'heating_fuel_fuel_oil_kerosene_rate',          \n",
    "'heating_fuel_coal_coke_rate',                  \n",
    "'heating_fuel_solar_rate',                      \n",
    "'heating_fuel_other_rate',                      \n",
    "'heating_fuel_none_rate',                       \n",
    "'household_count',                                \n",
    "'average_household_size',                      \n",
    "'housing_unit_count',                             \n",
    "'housing_unit_occupied_count',                    \n",
    "'housing_unit_median_value',                   \n",
    "'housing_unit_median_gross_rent',\n",
    "'age_18_24_rate',                               \n",
    "'age_25_34_rate',                               \n",
    "'age_more_than_85_rate',                        \n",
    "'age_75_84_rate',                               \n",
    "'age_35_44_rate',                               \n",
    "'age_45_54_rate',                               \n",
    "'age_65_74_rate',                               \n",
    "'age_55_64_rate',                               \n",
    "'age_10_14_rate',                               \n",
    "'age_15_17_rate',                               \n",
    "'age_5_9_rate',                                 \n",
    "'household_type_family_rate',                   \n",
    "'dropout_16_19_inschool_rate',                 \n",
    "'occupation_construction_rate',                 \n",
    "'occupation_public_rate',                       \n",
    "'occupation_information_rate',                  \n",
    "'occupation_finance_rate',                      \n",
    "'occupation_education_rate',                    \n",
    "'occupation_administrative_rate',               \n",
    "'occupation_manufacturing_rate',                \n",
    "'occupation_wholesale_rate',                    \n",
    "'occupation_retail_rate',                       \n",
    "'occupation_transportation_rate',               \n",
    "'occupation_arts_rate',                        \n",
    "'occupation_agriculture_rate',                  \n",
    "'occupancy_vacant_rate',                        \n",
    "'occupancy_owner_rate',                         \n",
    "'mortgage_with_rate',                          \n",
    "'transportation_home_rate',                     \n",
    "'transportation_car_alone_rate',                \n",
    "'transportation_walk_rate',                     \n",
    "'transportation_carpool_rate',                  \n",
    "'transportation_motorcycle_rate',               \n",
    "'transportation_bicycle_rate',                  \n",
    "'transportation_public_rate',                   \n",
    "'travel_time_less_than_10_rate',               \n",
    "'travel_time_10_19_rate',                       \n",
    "'travel_time_20_29_rate',                       \n",
    "'travel_time_30_39_rate',                       \n",
    "'travel_time_40_59_rate',                       \n",
    "'travel_time_60_89_rate',                       \n",
    "'health_insurance_public_rate',                 \n",
    "'health_insurance_none_rate',                                 \n",
    "]\n",
    "\n",
    "len(demographic_parameters)"
   ]
  },
  {
   "cell_type": "markdown",
   "metadata": {},
   "source": [
    "### Environmental Condition Parameters"
   ]
  },
  {
   "cell_type": "code",
   "execution_count": 58,
   "metadata": {},
   "outputs": [
    {
     "data": {
      "text/plain": [
       "12"
      ]
     },
     "execution_count": 58,
     "metadata": {},
     "output_type": "execute_result"
    }
   ],
   "source": [
    "envt_parameters = [\n",
    "    \n",
    "'heating_design_temperature',                  \n",
    "'cooling_design_temperature',                  \n",
    "'earth_temperature_amplitude',             \n",
    "'frost_days',                                 \n",
    "'air_temperature',                             \n",
    "'relative_humidity',                          \n",
    "'daily_solar_radiation',                       \n",
    "'atmospheric_pressure',                        \n",
    "'wind_speed',                                 \n",
    "'earth_temperature',                           \n",
    "'heating_degree_days',                         \n",
    "'cooling_degree_days',\n",
    "]\n",
    "len(envt_parameters)"
   ]
  },
  {
   "cell_type": "markdown",
   "metadata": {},
   "source": [
    "### Political Views"
   ]
  },
  {
   "cell_type": "code",
   "execution_count": 41,
   "metadata": {},
   "outputs": [
    {
     "data": {
      "text/plain": [
       "6"
      ]
     },
     "execution_count": 41,
     "metadata": {},
     "output_type": "execute_result"
    }
   ],
   "source": [
    "political_parameters = [\n",
    "    \n",
    "    'voting_2016_dem_percentage',                     \n",
    "'voting_2016_gop_percentage',                     \n",
    "'voting_2016_dem_win',                            \n",
    "'voting_2012_dem_percentage',                 \n",
    "'voting_2012_gop_percentage',                \n",
    "'voting_2012_dem_win'                           \n",
    "]\n",
    "\n",
    "len(political_parameters)"
   ]
  },
  {
   "cell_type": "code",
   "execution_count": null,
   "metadata": {},
   "outputs": [],
   "source": []
  }
 ],
 "metadata": {
  "kernelspec": {
   "display_name": "Python 3",
   "language": "python",
   "name": "python3"
  },
  "language_info": {
   "codemirror_mode": {
    "name": "ipython",
    "version": 3
   },
   "file_extension": ".py",
   "mimetype": "text/x-python",
   "name": "python",
   "nbconvert_exporter": "python",
   "pygments_lexer": "ipython3",
   "version": "3.6.10"
  }
 },
 "nbformat": 4,
 "nbformat_minor": 4
}
